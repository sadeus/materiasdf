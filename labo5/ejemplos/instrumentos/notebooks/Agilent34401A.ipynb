{
 "metadata": {
  "name": "",
  "signature": "sha256:dd8100e2c0a4931e54e8640f6f443b32d48c297fdbddf5b8ef52a730990ba4c1"
 },
 "nbformat": 3,
 "nbformat_minor": 0,
 "worksheets": [
  {
   "cells": [
    {
     "cell_type": "code",
     "collapsed": false,
     "input": [
      "%matplotlib inline\n",
      "from matplotlib import pyplot as plt\n",
      "import numpy as np"
     ],
     "language": "python",
     "metadata": {},
     "outputs": [],
     "prompt_number": 1
    },
    {
     "cell_type": "code",
     "collapsed": false,
     "input": [
      "import visa"
     ],
     "language": "python",
     "metadata": {},
     "outputs": [
      {
       "output_type": "stream",
       "stream": "stderr",
       "text": [
        "WARNING:pyvisa:(<InterfaceType.vxi: 2>, 'INSTR') is already registered in the ResourceManager. Overwriting with <class 'pyvisa.resources.pxi.PXIInstrument'>\n"
       ]
      },
      {
       "output_type": "stream",
       "stream": "stderr",
       "text": [
        "WARNING:pyvisa:(<InterfaceType.vxi: 2>, 'MEMACC') is already registered in the ResourceManager. Overwriting with <class 'pyvisa.resources.pxi.PXIMemory'>\n"
       ]
      }
     ],
     "prompt_number": 2
    },
    {
     "cell_type": "code",
     "collapsed": false,
     "input": [
      "rm = visa.ResourceManager()"
     ],
     "language": "python",
     "metadata": {},
     "outputs": [],
     "prompt_number": 3
    },
    {
     "cell_type": "code",
     "collapsed": false,
     "input": [
      "rm.list_resources()"
     ],
     "language": "python",
     "metadata": {},
     "outputs": [
      {
       "metadata": {},
       "output_type": "pyout",
       "prompt_number": 8,
       "text": [
        "('USB0::0x0699::0x0346::C034165::INSTR', 'ASRL1::INSTR', 'ASRL10::INSTR')"
       ]
      }
     ],
     "prompt_number": 8
    },
    {
     "cell_type": "code",
     "collapsed": false,
     "input": [
      "mult = rm.open_resource('GPIB0::22::INSTR')"
     ],
     "language": "python",
     "metadata": {},
     "outputs": [],
     "prompt_number": 11
    },
    {
     "cell_type": "code",
     "collapsed": false,
     "input": [
      "mult.query('*IDN?')"
     ],
     "language": "python",
     "metadata": {},
     "outputs": [
      {
       "metadata": {},
       "output_type": "pyout",
       "prompt_number": 12,
       "text": [
        "'TEKTRONIX,AFG3021B,C034165,SCPI:99.0 FV:3.1.1\\n'"
       ]
      }
     ],
     "prompt_number": 12
    },
    {
     "cell_type": "code",
     "collapsed": false,
     "input": [
      "dc = float(mult.query('measure:voltage:DC?'));"
     ],
     "language": "python",
     "metadata": {},
     "outputs": []
    },
    {
     "cell_type": "markdown",
     "metadata": {},
     "source": [
      "Otras cosas que se pueden medir\n",
      "\n",
      "MEASure\n",
      "    :VOLTage:DC? {<range>|MIN|MAX|DEF},{<resolution>|MIN|MAX|DEF}\n",
      "    :VOLTage:DC:RATio? {<range>|MIN|MAX|DEF},{<resolution>|MIN|MAX|DEF}\n",
      "    :VOLTage:AC? {<range>|MIN|MAX|DEF},{<resolution>|MIN|MAX|DEF}\n",
      "    :CURRent:DC? {<range>|MIN|MAX|DEF},{<resolution>|MIN|MAX|DEF}\n",
      "    :CURRent:AC? {<range>|MIN|MAX|DEF},{<resolution>|MIN|MAX|DEF}\n",
      "    :RESistance? {<range>|MIN|MAX|DEF},{<resolution>|MIN|MAX|DEF}\n",
      "    :FRESistance? {<range>|MIN|MAX|DEF},{<resolution>|MIN|MAX|DEF}\n",
      "    :FREQuency? {<range>|MIN|MAX|DEF},{<resolution>|MIN|MAX|DEF}\n",
      "    :PERiod? {<range>|MIN|MAX|DEF},{<resolution>|MIN|MAX|DEF}\n",
      "    :CONTinuity?\n",
      "    :DIODe?"
     ]
    },
    {
     "cell_type": "code",
     "collapsed": false,
     "input": [
      "mult.close()"
     ],
     "language": "python",
     "metadata": {},
     "outputs": [],
     "prompt_number": 29
    },
    {
     "cell_type": "code",
     "collapsed": false,
     "input": [],
     "language": "python",
     "metadata": {},
     "outputs": []
    }
   ],
   "metadata": {}
  }
 ]
}
{
 "metadata": {
  "name": "",
  "signature": "sha256:9cb76510411ccb3be8c51a9998e73d816dd513e75f1fa6917b49dd36ee474eeb"
 },
 "nbformat": 3,
 "nbformat_minor": 0,
 "worksheets": [
  {
   "cells": [
    {
     "cell_type": "code",
     "collapsed": false,
     "input": [
      "%matplotlib inline\n",
      "from matplotlib import pyplot as plt\n",
      "import numpy as np"
     ],
     "language": "python",
     "metadata": {},
     "outputs": [],
     "prompt_number": 1
    },
    {
     "cell_type": "code",
     "collapsed": false,
     "input": [
      "import visa"
     ],
     "language": "python",
     "metadata": {},
     "outputs": [
      {
       "output_type": "stream",
       "stream": "stderr",
       "text": [
        "WARNING:pyvisa:(<InterfaceType.vxi: 2>, 'INSTR') is already registered in the ResourceManager. Overwriting with <class 'pyvisa.resources.pxi.PXIInstrument'>\n"
       ]
      },
      {
       "output_type": "stream",
       "stream": "stderr",
       "text": [
        "WARNING:pyvisa:(<InterfaceType.vxi: 2>, 'MEMACC') is already registered in the ResourceManager. Overwriting with <class 'pyvisa.resources.pxi.PXIMemory'>\n"
       ]
      }
     ],
     "prompt_number": 2
    },
    {
     "cell_type": "code",
     "collapsed": false,
     "input": [
      "rm = visa.ResourceManager()"
     ],
     "language": "python",
     "metadata": {},
     "outputs": [],
     "prompt_number": 3
    },
    {
     "cell_type": "code",
     "collapsed": false,
     "input": [
      "rm.list_resources()"
     ],
     "language": "python",
     "metadata": {},
     "outputs": [
      {
       "metadata": {},
       "output_type": "pyout",
       "prompt_number": 8,
       "text": [
        "('USB0::0x0699::0x0346::C034165::INSTR', 'ASRL1::INSTR', 'ASRL10::INSTR')"
       ]
      }
     ],
     "prompt_number": 8
    },
    {
     "cell_type": "code",
     "collapsed": false,
     "input": [
      "fungen = rm.open_resource('USB0::0x0699::0x0346::C034165::INSTR')"
     ],
     "language": "python",
     "metadata": {},
     "outputs": [],
     "prompt_number": 11
    },
    {
     "cell_type": "code",
     "collapsed": false,
     "input": [
      "fungen.query('*IDN?')"
     ],
     "language": "python",
     "metadata": {},
     "outputs": [
      {
       "metadata": {},
       "output_type": "pyout",
       "prompt_number": 12,
       "text": [
        "'TEKTRONIX,AFG3021B,C034165,SCPI:99.0 FV:3.1.1\\n'"
       ]
      }
     ],
     "prompt_number": 12
    },
    {
     "cell_type": "code",
     "collapsed": false,
     "input": [
      "import time\n",
      "\n",
      "# Rampa logaritmica de frequencias \n",
      "# Los dos primeros numeros (1 y 3) indican los exponentes de los limites(10^1 y 10^3)\n",
      "# El siguiente el numero de pasos\n",
      "for freq in np.logspace(1, 3, 20):\n",
      "    fungen.write('FREQ %f' % freq)\n",
      "    time.sleep(0.1);\n",
      "\n",
      "# Rampa lineal de amplitudes\n",
      "# Los dos primeros numeros (0 y 1) indican los limites.\n",
      "# El siguiente el numero de pasos\n",
      "for amplitude in np.linspace(0, 1, 10):\n",
      "    fungen.write('VOLT %f' % amplitude)\n",
      "    time.sleep(0.1);    \n",
      "    \n",
      "    \n",
      "# Rampa lineal de offset\n",
      "# Los dos primeros numeros (0 y 1) indican los limites.\n",
      "# El siguiente el numero de pasos\n",
      "for offset in np.linspace(0, 1, 10):\n",
      "    fungen.write('VOLT:OFFS %f' % offset)\n",
      "    time.sleep(0.1);    "
     ],
     "language": "python",
     "metadata": {},
     "outputs": [],
     "prompt_number": 28
    },
    {
     "cell_type": "code",
     "collapsed": false,
     "input": [
      "fungen.close()"
     ],
     "language": "python",
     "metadata": {},
     "outputs": [],
     "prompt_number": 29
    },
    {
     "cell_type": "code",
     "collapsed": false,
     "input": [],
     "language": "python",
     "metadata": {},
     "outputs": []
    }
   ],
   "metadata": {}
  }
 ]
}
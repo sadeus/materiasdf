{
 "cells": [
  {
   "cell_type": "code",
   "execution_count": 22,
   "metadata": {
    "collapsed": false
   },
   "outputs": [],
   "source": [
    "import numpy as np\n",
    "import matplotlib.pyplot as plt\n",
    "%matplotlib inline"
   ]
  },
  {
   "cell_type": "markdown",
   "metadata": {},
   "source": [
    "Acá tengo los datos"
   ]
  },
  {
   "cell_type": "code",
   "execution_count": 44,
   "metadata": {
    "collapsed": false
   },
   "outputs": [],
   "source": [
    "P = np.array([ 18.71,   2.79,  13.61,  12.08,   1.89])\n",
    "F = np.array([4854., 2586., 3752., 3753., 2605.])\n",
    "t = np.array([200., 100., 150., 150., 100.])\n",
    "tc = 100.\n",
    "Fc = 1021.\n",
    "\n",
    "B = F/t - Fc/tc\n",
    "\n",
    "A = np.ones((P.shape[0], 2))\n",
    "A[:, 1] = np.log(P.T)"
   ]
  },
  {
   "cell_type": "markdown",
   "metadata": {},
   "source": [
    "$B_i = \\frac{F_i}{t_i} - \\frac{F_c}{t_c}$\n",
    "\n",
    "$Cov(B_i, B_j) =\\frac{Cov(F_i, F_j)}{t_i t_j} \\delta_{ij} + \\frac{Var(F_c)}{t_c^2}$"
   ]
  },
  {
   "cell_type": "code",
   "execution_count": 32,
   "metadata": {
    "collapsed": false
   },
   "outputs": [
    {
     "name": "stdout",
     "output_type": "stream",
     "text": [
      "[[ 0.22345     0.1021      0.1021      0.1021      0.1021    ]\n",
      " [ 0.1021      0.3607      0.1021      0.1021      0.1021    ]\n",
      " [ 0.1021      0.1021      0.26885556  0.1021      0.1021    ]\n",
      " [ 0.1021      0.1021      0.1021      0.2689      0.1021    ]\n",
      " [ 0.1021      0.1021      0.1021      0.1021      0.3626    ]]\n"
     ]
    }
   ],
   "source": [
    "V = np.eye(len(P))\n",
    "np.fill_diagonal(V, F/t**2)\n",
    "V += Fc/tc**2\n",
    "print(V)"
   ]
  },
  {
   "cell_type": "code",
   "execution_count": 36,
   "metadata": {
    "collapsed": false
   },
   "outputs": [
    {
     "name": "stdout",
     "output_type": "stream",
     "text": [
      "β = 16.39 +- 0.61 \n",
      " α = -0.70 +- 0.22\n",
      "Cov(β,α) = 0.049\n"
     ]
    }
   ],
   "source": [
    "U = np.linalg.inv(A.T.dot(np.linalg.inv(V).dot(A)))\n",
    "tita = U.dot(A.T.dot(np.linalg.inv(V)).dot(B))\n",
    "print(\"β = {:.2f} +- {:.2f} \\n α = {:.2f} +- {:.2f}\".format(tita[0], np.sqrt(U[0,0]), tita[1], np.sqrt(U[1,1])))\n",
    "print(\"Cov(β,α) = {:.3f}\".format(U[1,1]))"
   ]
  },
  {
   "cell_type": "markdown",
   "metadata": {},
   "source": [
    "Ahora grafico"
   ]
  },
  {
   "cell_type": "code",
   "execution_count": 43,
   "metadata": {
    "collapsed": false
   },
   "outputs": [
    {
     "data": {
      "text/plain": [
       "<matplotlib.legend.Legend at 0x8093eb8>"
      ]
     },
     "execution_count": 43,
     "metadata": {},
     "output_type": "execute_result"
    },
    {
     "data": {
      "image/png": "[encoded data removed]",
      "text/plain": [
       "<matplotlib.figure.Figure at 0x7fecb00>"
      ]
     },
     "metadata": {},
     "output_type": "display_data"
    }
   ],
   "source": [
    "x = np.linspace(np.log(P).min(), np.log(P).max(), 100)\n",
    "plt.errorbar(np.log(P), B, yerr = np.diag(V), fmt = 'bo', label='datos')\n",
    "plt.plot(x, tita[1]*x+tita[0], 'r-', label='ajuste');\n",
    "plt.xlabel('log(P)')\n",
    "plt.ylabel('B')\n",
    "plt.grid()\n",
    "plt.legend(loc=0)"
   ]
  },
  {
   "cell_type": "code",
   "execution_count": null,
   "metadata": {
    "collapsed": true
   },
   "outputs": [],
   "source": []
  }
 ],
 "metadata": {
  "kernelspec": {
   "display_name": "Python 3",
   "language": "python",
   "name": "python3"
  },
  "language_info": {
   "codemirror_mode": {
    "name": "ipython",
    "version": 3
   },
   "file_extension": ".py",
   "mimetype": "text/x-python",
   "name": "python",
   "nbconvert_exporter": "python",
   "pygments_lexer": "ipython3",
   "version": "3.4.3"
  }
 },
 "nbformat": 4,
 "nbformat_minor": 0
}

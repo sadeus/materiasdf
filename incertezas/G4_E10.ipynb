{
 "cells": [
  {
   "cell_type": "markdown",
   "metadata": {},
   "source": [
    "#Problema de la guía 4  \n",
    "###S. Schiavinato - LU 153/11"
   ]
  },
  {
   "cell_type": "code",
   "execution_count": 1,
   "metadata": {
    "collapsed": true
   },
   "outputs": [],
   "source": [
    "%matplotlib inline\n",
    "import numpy as np\n",
    "import numpy.random as rnd\n",
    "import matplotlib.pyplot as plt\n",
    "import scipy.integrate as integrate\n",
    "plt.rcParams[\"figure.figsize\"] = (5 * (1 + np.sqrt(5)) / 2, 5)\n",
    "plt.rcParams[\"lines.linewidth\"] = 2.5\n",
    "plt.rcParams[\"ytick.labelsize\"] = 12\n",
    "plt.rcParams[\"xtick.labelsize\"] = 12"
   ]
  },
  {
   "cell_type": "markdown",
   "metadata": {},
   "source": [
    "Defino la densidad de masa"
   ]
  },
  {
   "cell_type": "code",
   "execution_count": 2,
   "metadata": {
    "collapsed": false
   },
   "outputs": [
    {
     "data": {
      "text/latex": [
       "\\[\\rho(r) = \\frac{\\rho_0}{1 + \\left(\\frac{r}{r_e}\\right)^2}\\]"
      ],
      "text/plain": [
       "<IPython.core.display.Latex object>"
      ]
     },
     "metadata": {},
     "output_type": "display_data"
    }
   ],
   "source": [
    "%%latex\n",
    "\\[\\rho(r) = \\frac{\\rho_0}{1 + \\left(\\frac{r}{r_e}\\right)^2}\\]"
   ]
  },
  {
   "cell_type": "markdown",
   "metadata": {},
   "source": [
    "La probabilidad de que un elemento de fluido esté en una posición r del espacio es proporcional a la masa ocupada en un diferencia dV alrededor de ese punto, es decir"
   ]
  },
  {
   "cell_type": "code",
   "execution_count": 3,
   "metadata": {
    "collapsed": false
   },
   "outputs": [
    {
     "data": {
      "text/latex": [
       "\\[p(\\vec{r}) = \\rho(r) dV = \\rho(r) \\,r^2 \\, \\text{sen}(\\theta)\\, dr d\\theta d\\phi = f(r,\\theta, \\phi) dr d\\theta d\\phi \\]"
      ],
      "text/plain": [
       "<IPython.core.display.Latex object>"
      ]
     },
     "metadata": {},
     "output_type": "display_data"
    }
   ],
   "source": [
    "%%latex\n",
    "\\[p(\\vec{r}) = \\rho(r) dV = \\rho(r) \\,r^2 \\, \\text{sen}(\\theta)\\, dr d\\theta d\\phi = f(r,\\theta, \\phi) dr d\\theta d\\phi \\]"
   ]
  },
  {
   "cell_type": "markdown",
   "metadata": {},
   "source": [
    "Calculemos las marginalizadas, que corresponde a integrar en las otras variables"
   ]
  },
  {
   "cell_type": "code",
   "execution_count": 4,
   "metadata": {
    "collapsed": false
   },
   "outputs": [
    {
     "data": {
      "text/latex": [
       "\\[ f(r) = a \\int^{2\\pi}_{0} \\int^{\\pi}_{0} \\rho(r) r^2 \\text{sen}(\\theta) d\\theta d\\phi = 4\\pi a r^2 \\rho(r) = \\frac{4 \\pi a \\rho_0 r^2}{1 + \\left(\\frac{r}{r_e}\\right)^2} \\]\n",
       "\\[f(\\theta) = b \\int_{0}^{r_e} \\int_{0}^{2\\pi} \\rho(r) r^2 \\text{sen}(\\theta) dr d\\phi = 2\\pi b \\;\\text{sen}(\\theta) \\int_{0}^{r_e} \\rho(r) r^2 dr = 2 \\pi b \\; \\text{sen}(\\theta) \\; r_e^3 \\left(1-\\frac{\\pi}{4}\\right)\\]\n",
       "\\[f(\\phi) = c \\int_{0}^{r_e} \\int_{0}^{\\pi} \\rho(r) r^2 \\text{sen}(\\theta) dr d\\theta = 2 c \\int_{0}^{r_e} \\rho(r) r^2 dr =  2 c r_e^3 \\left(1-\\frac{\\pi}{4}\\right) = \\text{cte}\\]"
      ],
      "text/plain": [
       "<IPython.core.display.Latex object>"
      ]
     },
     "metadata": {},
     "output_type": "display_data"
    }
   ],
   "source": [
    "%%latex\n",
    "\\[ f(r) = a \\int^{2\\pi}_{0} \\int^{\\pi}_{0} \\rho(r) r^2 \\text{sen}(\\theta) d\\theta d\\phi = 4\\pi a r^2 \\rho(r) = \\frac{4 \\pi a \\rho_0 r^2}{1 + \\left(\\frac{r}{r_e}\\right)^2} \\]\n",
    "\\[f(\\theta) = b \\int_{0}^{r_e} \\int_{0}^{2\\pi} \\rho(r) r^2 \\text{sen}(\\theta) dr d\\phi = 2\\pi b \\;\\text{sen}(\\theta) \\int_{0}^{r_e} \\rho(r) r^2 dr = 2 \\pi b \\; \\text{sen}(\\theta) \\; r_e^3 \\left(1-\\frac{\\pi}{4}\\right)\\]\n",
    "\\[f(\\phi) = c \\int_{0}^{r_e} \\int_{0}^{\\pi} \\rho(r) r^2 \\text{sen}(\\theta) dr d\\theta = 2 c \\int_{0}^{r_e} \\rho(r) r^2 dr =  2 c r_e^3 \\left(1-\\frac{\\pi}{4}\\right) = \\text{cte}\\]"
   ]
  },
  {
   "cell_type": "markdown",
   "metadata": {},
   "source": [
    "Ahora normalizo las funciones de distribución marginales"
   ]
  },
  {
   "cell_type": "code",
   "execution_count": 5,
   "metadata": {
    "collapsed": false
   },
   "outputs": [
    {
     "data": {
      "text/latex": [
       "\\[ a \\int_{0}^{r_e} f(r) dr = 1 \\Rightarrow \\frac{1}{a} = 4 \\pi \\rho_0  r_e^3 \\left(1-\\frac{\\pi}{4}\\right) \\Rightarrow f(r) = \\frac{r^2}{r_e^3\\left(1-\\frac{\\pi}{4}\\right) \\left(1 + \\left(\\frac{r}{r_e}\\right)^2\\right) } = \\frac{r^2 \\rho(r)}{\\rho_0 r_e^3\\left(1-\\frac{\\pi}{4}\\right)} \\]\n",
       "\\[ b \\int_{0}^{\\pi} f(\\theta) d\\theta = 1 \\Rightarrow b \\; 4 \\pi r_e^3 \\left(1-\\frac{\\pi}{4}\\right) = 1 \\Rightarrow  f(\\theta) = \\frac{\\text{sen}(\\theta)}{2}\\]\n",
       "\\[ c \\int_{0}^{2\\pi} f(\\phi) d\\phi = 1 \\Rightarrow f(\\phi) = \\frac{1}{2\\pi} \\]"
      ],
      "text/plain": [
       "<IPython.core.display.Latex object>"
      ]
     },
     "metadata": {},
     "output_type": "display_data"
    }
   ],
   "source": [
    "%%latex\n",
    "\\[ a \\int_{0}^{r_e} f(r) dr = 1 \\Rightarrow \\frac{1}{a} = 4 \\pi \\rho_0  r_e^3 \\left(1-\\frac{\\pi}{4}\\right) \\Rightarrow f(r) = \\frac{r^2}{r_e^3\\left(1-\\frac{\\pi}{4}\\right) \\left(1 + \\left(\\frac{r}{r_e}\\right)^2\\right) } = \\frac{r^2 \\rho(r)}{\\rho_0 r_e^3\\left(1-\\frac{\\pi}{4}\\right)} \\]\n",
    "\\[ b \\int_{0}^{\\pi} f(\\theta) d\\theta = 1 \\Rightarrow b \\; 4 \\pi r_e^3 \\left(1-\\frac{\\pi}{4}\\right) = 1 \\Rightarrow  f(\\theta) = \\frac{\\text{sen}(\\theta)}{2}\\]\n",
    "\\[ c \\int_{0}^{2\\pi} f(\\phi) d\\phi = 1 \\Rightarrow f(\\phi) = \\frac{1}{2\\pi} \\]"
   ]
  },
  {
   "cell_type": "markdown",
   "metadata": {},
   "source": [
    "Paso a definir las funciones distribución de probabilidad que nos interesa para este problema"
   ]
  },
  {
   "cell_type": "code",
   "execution_count": 6,
   "metadata": {
    "collapsed": true
   },
   "outputs": [],
   "source": [
    "rho = lambda r, rc, rho0: rho0 / (1 + (r/rc)**2)\n",
    "fR = lambda x, rho0, rc: x**2 * rho(x, rc, rho0) / (rc**3*rho0*(1 - np.pi/4)) #PDF en la variable R\n",
    "fTh = lambda x: np.sin(x) / 2"
   ]
  },
  {
   "cell_type": "markdown",
   "metadata": {},
   "source": [
    "Defino los parámetros físicos del problema, o determino las unidades de lo que observo"
   ]
  },
  {
   "cell_type": "code",
   "execution_count": 7,
   "metadata": {
    "collapsed": true
   },
   "outputs": [],
   "source": [
    "rc = 1\n",
    "rho0 = 1"
   ]
  },
  {
   "cell_type": "markdown",
   "metadata": {},
   "source": [
    "Grafico una al lado de la otra las distribución de probabilidades. Además integro la distribución en r para ver si está normalizada efectivamente"
   ]
  },
  {
   "cell_type": "code",
   "execution_count": 8,
   "metadata": {
    "collapsed": false
   },
   "outputs": [
    {
     "data": {
      "text/plain": [
       "<matplotlib.legend.Legend at 0x7fc8294f96d8>"
      ]
     },
     "execution_count": 8,
     "metadata": {},
     "output_type": "execute_result"
    },
    {
     "data": {
      "image/png": "[encoded data removed]",
      "text/plain": [
       "<matplotlib.figure.Figure at 0x7fc829e48d30>"
      ]
     },
     "metadata": {},
     "output_type": "display_data"
    }
   ],
   "source": [
    "r = np.linspace(0, rc, 1000)\n",
    "θ = np.linspace(0, np.pi, 1000)\n",
    "plt.figure(1, figsize=((10 * (1 + np.sqrt(5)) / 2, 5)))\n",
    "plt.subplot(121)\n",
    "plt.plot(r, fR(r, rc, rho0),'r-', label=\"Distribución de probabilidad radial\")\n",
    "plt.legend(loc=0)\n",
    "plt.subplot(122)\n",
    "plt.plot(θ, fTh(θ),'g-', label=\"Distribución de probabilidad azimutal\")\n",
    "plt.legend(loc=0);"
   ]
  },
  {
   "cell_type": "code",
   "execution_count": 9,
   "metadata": {
    "collapsed": false
   },
   "outputs": [
    {
     "name": "stdout",
     "output_type": "stream",
     "text": [
      "(1.0, 1.1102230246251565e-14)\n"
     ]
    }
   ],
   "source": [
    "print(integrate.quad(lambda x: fR(x, rc, rho0), 0, rc)) #Integro numéricamente"
   ]
  },
  {
   "cell_type": "markdown",
   "metadata": {},
   "source": [
    "Ahora por el método Monte Carlo aceptación-rechazo genero números al azar con las distribuciones de antes. Grafico el histograma de cada uno "
   ]
  },
  {
   "cell_type": "code",
   "execution_count": 10,
   "metadata": {
    "collapsed": false
   },
   "outputs": [
    {
     "data": {
      "image/png": "[encoded data removed]",
      "text/plain": [
       "<matplotlib.figure.Figure at 0x7fc829540dd8>"
      ]
     },
     "metadata": {},
     "output_type": "display_data"
    }
   ],
   "source": [
    "#Vectores para contabilizaar datos\n",
    "Ar = []\n",
    "Ath = []\n",
    "#Variables aleatorias\n",
    "r = rnd.uniform(0, 1, 10000)\n",
    "th = rnd.uniform(0, 2*np.pi, 10000)\n",
    "#\n",
    "for i in r:\n",
    "    vR = rnd.uniform(0, fR(rc,rc,rho0))\n",
    "    if (fR(i,rc,rho0) > vR):\n",
    "        Ar.append(i)\n",
    "\n",
    "for i in th:\n",
    "    vTh = rnd.uniform(0, fTh(np.pi/2))\n",
    "    if (fTh(i) > vTh):\n",
    "        Ath.append(i)\n",
    "\n",
    "#Grafico ambos histogramas\n",
    "plt.figure(2, figsize=((10 * (1 + np.sqrt(5)) / 2, 5)))\n",
    "plt.subplot(121)\n",
    "plt.hist(Ar, color='r',label=\"Datos radiales\")\n",
    "plt.legend(loc=0)\n",
    "plt.subplot(122)\n",
    "plt.hist(Ath, color='g',label=\"Datos azimutales\")\n",
    "plt.legend(loc=0);"
   ]
  },
  {
   "cell_type": "markdown",
   "metadata": {},
   "source": [
    "Ahora grafico ambos histogramas a la vez, para observar correlación entre las variables"
   ]
  },
  {
   "cell_type": "code",
   "execution_count": 11,
   "metadata": {
    "collapsed": false
   },
   "outputs": [
    {
     "data": {
      "image/png": "[encoded data removed]",
      "text/plain": [
       "<matplotlib.figure.Figure at 0x7fc8293365c0>"
      ]
     },
     "metadata": {},
     "output_type": "display_data"
    }
   ],
   "source": [
    "#Como no puedo prefijar la cantidad de cuentas, elijo la cantidad más chica\n",
    "L = 0\n",
    "if (len(Ar)<len(Ath)):\n",
    "    L = len(Ar)\n",
    "else:\n",
    "    L = len(Ath)\n",
    "plt.hist2d(Ar[:L],Ath[:L], bins = 20);"
   ]
  },
  {
   "cell_type": "code",
   "execution_count": null,
   "metadata": {
    "collapsed": true
   },
   "outputs": [],
   "source": []
  }
 ],
 "metadata": {
  "kernelspec": {
   "display_name": "Python 3",
   "language": "python",
   "name": "python3"
  },
  "language_info": {
   "codemirror_mode": {
    "name": "ipython",
    "version": 3
   },
   "file_extension": ".py",
   "mimetype": "text/x-python",
   "name": "python",
   "nbconvert_exporter": "python",
   "pygments_lexer": "ipython3",
   "version": "3.4.3"
  }
 },
 "nbformat": 4,
 "nbformat_minor": 0
}

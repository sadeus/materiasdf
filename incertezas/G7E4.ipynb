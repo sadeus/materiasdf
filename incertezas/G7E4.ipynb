{
 "cells": [
  {
   "cell_type": "code",
   "execution_count": 46,
   "metadata": {
    "collapsed": true
   },
   "outputs": [],
   "source": [
    "%matplotlib inline\n",
    "import numpy as np\n",
    "import numpy.random as rnd\n",
    "import scipy.misc as misc\n",
    "import matplotlib.pyplot as plt\n",
    "import scipy.stats as stats\n",
    "plt.rcParams[\"figure.figsize\"] = (5 * (1 + np.sqrt(5)) / 2, 5)\n",
    "plt.rcParams[\"lines.linewidth\"] = 2.5\n",
    "plt.rcParams[\"ytick.labelsize\"] = 12\n",
    "plt.rcParams[\"xtick.labelsize\"] = 12\n",
    "plt.rcParams[\"axes.labelsize\"] = 20"
   ]
  },
  {
   "cell_type": "code",
   "execution_count": 37,
   "metadata": {
    "collapsed": true
   },
   "outputs": [],
   "source": [
    "μ = 10\n",
    "σ = 2\n",
    "N = 1000\n",
    "dim = 3"
   ]
  },
  {
   "cell_type": "code",
   "execution_count": 63,
   "metadata": {
    "collapsed": false
   },
   "outputs": [],
   "source": [
    "A = rnd.normal(μ, σ, (N, dim))\n",
    "Xbar = np.mean(A, axis = 1)\n",
    "x1 = np.sqrt(N)*(Xbar - μ)/(σ)\n",
    "x2 = np.sum(A - μ, axis = 1)/σ \n",
    "ssqrt = 0\n",
    "for i in range(dim - 1): #Creo el valor medio por tres, para usar la suma de arrays\n",
    "    Xbar = np.column_stack((Xbar, np.mean(A, axis = 1)))\n",
    "x3 = (N - 1) * np.sum(A - Xbar, axis = 1)/(N * σ**2)"
   ]
  },
  {
   "cell_type": "code",
   "execution_count": 64,
   "metadata": {
    "collapsed": false
   },
   "outputs": [
    {
     "data": {
      "image/png": "[encoded data removed]",
      "text/plain": [
       "<matplotlib.figure.Figure at 0x7f41492285c0>"
      ]
     },
     "metadata": {},
     "output_type": "display_data"
    }
   ],
   "source": [
    "plt.figure(1)\n",
    "rv = stats.norm(0, 1)\n",
    "t = np.linspace(-10, 10, 10000)\n",
    "plt.hist(x1, bins = 20, normed = True);\n",
    "plt.plot(t, rv.pdf(t))\n",
    "#plt.figure(2)\n",
    "#plt.hist(x2, bins = 20, normed = True);\n",
    "#plt.figure(3)\n",
    "#plt.hist(x3, bins = 20, normed = True);"
   ]
  },
  {
   "cell_type": "code",
   "execution_count": null,
   "metadata": {
    "collapsed": true
   },
   "outputs": [],
   "source": []
  }
 ],
 "metadata": {
  "kernelspec": {
   "display_name": "Python 3",
   "language": "python",
   "name": "python3"
  },
  "language_info": {
   "codemirror_mode": {
    "name": "ipython",
    "version": 3
   },
   "file_extension": ".py",
   "mimetype": "text/x-python",
   "name": "python",
   "nbconvert_exporter": "python",
   "pygments_lexer": "ipython3",
   "version": "3.4.3"
  }
 },
 "nbformat": 4,
 "nbformat_minor": 0
}

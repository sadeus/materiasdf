{
 "cells": [
  {
   "cell_type": "markdown",
   "metadata": {},
   "source": [
    "#Problema de la Guía 3  \n",
    "###S. Schiavinato - LU 153/11"
   ]
  },
  {
   "cell_type": "markdown",
   "metadata": {},
   "source": [
    "####Código utilitario, librerías y funcionalidad de IPython"
   ]
  },
  {
   "cell_type": "code",
   "execution_count": 38,
   "metadata": {
    "collapsed": false
   },
   "outputs": [],
   "source": [
    "%matplotlib inline\n",
    "import numpy as np\n",
    "import numpy.random as rnd\n",
    "import matplotlib.pyplot as plt\n",
    "from IPython.html.widgets import interact, interactive, fixed\n",
    "from IPython.html import widgets\n",
    "\n",
    "plt.rcParams[\"figure.figsize\"] = (5*(1+np.sqrt(5))/2, 5)\n",
    "plt.rcParams[\"xtick.labelsize\"] = 12\n",
    "plt.rcParams[\"ytick.labelsize\"] = 12\n",
    "plt.rcParams[\"lines.linewidth\"] = 2.5"
   ]
  },
  {
   "cell_type": "markdown",
   "metadata": {},
   "source": [
    "##Ejercicio 4  \n",
    "###Obtener a partir de una distribución uniforme una distribución exponencial"
   ]
  },
  {
   "cell_type": "markdown",
   "metadata": {},
   "source": [
    "####Deducción teórica"
   ]
  },
  {
   "cell_type": "markdown",
   "metadata": {},
   "source": [
    "Originalmente yo tengo una variable aleatoria uniforme entre 0 y 1, que llamo X"
   ]
  },
  {
   "cell_type": "code",
   "execution_count": 8,
   "metadata": {
    "collapsed": false
   },
   "outputs": [
    {
     "data": {
      "text/latex": [
       "\\[X \\sim \\text{Uniforme}(0,1) \\Rightarrow f(x) = \\begin{cases} 1 & \\text{si } 0 \\leq x \\leq 1 \\\\ 0 & \\text{si no}\\end{cases}\\]"
      ],
      "text/plain": [
       "<IPython.core.display.Latex object>"
      ]
     },
     "metadata": {},
     "output_type": "display_data"
    }
   ],
   "source": [
    "%%latex\n",
    "\\[X \\sim \\text{Uniforme}(0,1) \\Rightarrow f(x) = \\begin{cases} 1 & \\text{si } 0 \\leq x \\leq 1 \\\\ 0 & \\text{si no}\\end{cases}\\]"
   ]
  },
  {
   "cell_type": "markdown",
   "metadata": {},
   "source": [
    "Y deseo transformarla a una variable aleatoria Y que tenga una distribución exponencial"
   ]
  },
  {
   "cell_type": "code",
   "execution_count": 9,
   "metadata": {
    "collapsed": false
   },
   "outputs": [
    {
     "data": {
      "text/latex": [
       "\\[Y \\sim \\text{Exponencial}(\\lambda) \\Rightarrow f(y) = \\lambda e^{-\\lambda y} \\]"
      ],
      "text/plain": [
       "<IPython.core.display.Latex object>"
      ]
     },
     "metadata": {},
     "output_type": "display_data"
    }
   ],
   "source": [
    "%%latex\n",
    "\\[Y \\sim \\text{Exponencial}(\\lambda) \\Rightarrow f(y) = \\lambda e^{-\\lambda y} \\]"
   ]
  },
  {
   "cell_type": "markdown",
   "metadata": {},
   "source": [
    "Si pedimos que se mantenga la probabilidad bajo la transformación"
   ]
  },
  {
   "cell_type": "code",
   "execution_count": 15,
   "metadata": {
    "collapsed": false
   },
   "outputs": [
    {
     "data": {
      "text/latex": [
       "\\[f(x) dx = g(y) dy \\Rightarrow g(y) = f(x) \\frac{dx}{dy}  \\]"
      ],
      "text/plain": [
       "<IPython.core.display.Latex object>"
      ]
     },
     "metadata": {},
     "output_type": "display_data"
    }
   ],
   "source": [
    "%%latex\n",
    "\\[f(x) dx = g(y) dy \\Rightarrow g(y) = f(x) \\frac{dx}{dy}  \\]"
   ]
  },
  {
   "cell_type": "code",
   "execution_count": 16,
   "metadata": {
    "collapsed": false
   },
   "outputs": [
    {
     "data": {
      "text/latex": [
       "\\[ \\lambda e^{-\\lambda y} = \\frac{dx}{dy}\\]\n",
       "\\[ x = - e^{-\\lambda y}\\]"
      ],
      "text/plain": [
       "<IPython.core.display.Latex object>"
      ]
     },
     "metadata": {},
     "output_type": "display_data"
    }
   ],
   "source": [
    "%%latex\n",
    "\\[ \\lambda e^{-\\lambda y} = \\frac{dx}{dy}\\]\n",
    "\\[ x = - e^{-\\lambda y}\\]"
   ]
  },
  {
   "cell_type": "markdown",
   "metadata": {},
   "source": [
    "Para poder invertir, usamos que una variable aleatoria z = 1 - x también tiene distribución uniforme entre 0 y 1"
   ]
  },
  {
   "cell_type": "code",
   "execution_count": 18,
   "metadata": {
    "collapsed": false
   },
   "outputs": [
    {
     "data": {
      "text/latex": [
       "\\[1 - x = - e^{-\\lambda y}\\]\n",
       "\\[\\log(x - 1) = -\\lambda y\\]\n",
       "\\[y = - \\frac{1}{\\lambda} \\log(x - 1) = - \\frac{\\log(x)}{\\lambda} \\]"
      ],
      "text/plain": [
       "<IPython.core.display.Latex object>"
      ]
     },
     "metadata": {},
     "output_type": "display_data"
    }
   ],
   "source": [
    "%%latex\n",
    "\\[1 - x = - e^{-\\lambda y}\\]\n",
    "\\[\\log(x - 1) = -\\lambda y\\]\n",
    "\\[y = - \\frac{1}{\\lambda} \\log(x - 1) = - \\frac{\\log(x)}{\\lambda} \\]"
   ]
  },
  {
   "cell_type": "markdown",
   "metadata": {},
   "source": [
    "Donde se usó nuevamente que la distribución x - 1 también es una distribución uniforme entre 0 y 1."
   ]
  },
  {
   "cell_type": "markdown",
   "metadata": {},
   "source": [
    "####Código"
   ]
  },
  {
   "cell_type": "code",
   "execution_count": 30,
   "metadata": {
    "collapsed": false
   },
   "outputs": [
    {
     "data": {
      "image/png": "[encoded data removed]",
      "text/plain": [
       "<matplotlib.figure.Figure at 0x7f1d31c67390>"
      ]
     },
     "metadata": {},
     "output_type": "display_data"
    }
   ],
   "source": [
    "def G3_E9(s=1):\n",
    "    #Datos\n",
    "    N, min_x, max_x, n_bins = 1e6, 0, 10, 50\n",
    "    bins = np.linspace(min_x, max_x, n_bins) #Bins para el histograma\n",
    "    U = rnd.uniform(0,1,N) #Resultados de N experimentos aleatorios entre 0 y 1\n",
    "    t = np.linspace(min_x, max_x, 1000) #Vector para graficar la PDF de la distribución exponencial\n",
    "    \n",
    "    #Funciones para la impresión\n",
    "    expD = lambda x, s: s * np.exp(-s*x) #Distribución exponencial\n",
    "    f = lambda x, s: -1/s*np.log(x) #y = f(x) = -1/s*ln(x), si x = Uniforme(0,1)\n",
    "    \n",
    "    #Gráficos\n",
    "    plt.ylim((0,1.5)) #Fijo los límites así se ve mejor comparativamente\n",
    "    plt.figure(1, figsize=(5*(1+np.sqrt(5))/2, 5))\n",
    "    hist, bins = np.histogram(f(U,s), bins = bins, density=True,)\n",
    "    plt.bar(bins[:-1], hist, width=bins[1]-bins[0],  label=\"Datos aleatorios uniformes transformados\");\n",
    "    plt.plot(t, expD(t, s), 'r-',label=\"Exponencial\");\n",
    "    plt.legend(loc=0)\n",
    "\n",
    "interact(G3_E9, s=(0.5,1.5,0.1)); #Genera control interactivo. Es lo mismo que anotar la función con @interact"
   ]
  },
  {
   "cell_type": "markdown",
   "metadata": {},
   "source": [
    "##Ejercicio 9"
   ]
  },
  {
   "cell_type": "markdown",
   "metadata": {},
   "source": [
    "###Funciones utilitarias, distribuciones a usar"
   ]
  },
  {
   "cell_type": "code",
   "execution_count": 35,
   "metadata": {
    "collapsed": true
   },
   "outputs": [],
   "source": [
    "gauss = lambda x, s, mu: 1/(s*np.sqrt(2*np.pi)) * np.exp(- (x - mu)**2/(2*s**2))\n",
    "cauchy = lambda x : 1/np.pi * 1 /(1 + x**2) \n",
    "f = lambda x, a, s1, s2: a * gauss(x, s=s1 , mu=0) + (1-a) * gauss(x, s = s2, mu=0) #Suma de Gaussianas, "
   ]
  },
  {
   "cell_type": "markdown",
   "metadata": {},
   "source": [
    "###Inciso a: Graficar una distribución N(0,75) y una Cauchy estándar normalizadas"
   ]
  },
  {
   "cell_type": "code",
   "execution_count": 36,
   "metadata": {
    "collapsed": false,
    "scrolled": true
   },
   "outputs": [
    {
     "data": {
      "image/png": "[encoded data removed]",
      "text/plain": [
       "<matplotlib.figure.Figure at 0x7f1d316df208>"
      ]
     },
     "metadata": {},
     "output_type": "display_data"
    }
   ],
   "source": [
    "def G3_E4_a():\n",
    "    t = np.linspace(-6,6,100)\n",
    "    plt.figure(1)\n",
    "    plt.plot(t, gauss(t, s=0.75,mu=0)/gauss(0,s = 0.75,mu=0), \"r-\", label=\"Gaussiana\")\n",
    "    plt.plot(t, cauchy(t)/cauchy(0),\"g-\", label=\"Cauchy\")\n",
    "    plt.legend(loc=0)\n",
    "\n",
    "G3_E4_a()"
   ]
  },
  {
   "cell_type": "markdown",
   "metadata": {},
   "source": [
    "###Inciso b: Graficar suma de Gaussianas frente a una distribución de Cauchy"
   ]
  },
  {
   "cell_type": "markdown",
   "metadata": {},
   "source": [
    "Al sumar muchas funciones distribución, la función resultante debe estar normalizada. Si integramos la suma de dos gaussianas"
   ]
  },
  {
   "cell_type": "code",
   "execution_count": 33,
   "metadata": {
    "collapsed": false
   },
   "outputs": [
    {
     "data": {
      "text/latex": [
       "\\[ \\int_{-\\infty}^{+\\infty} (a N(0,\\sigma_1) + b N(0, \\sigma_2) )dx = a \\int_{-\\infty}^{+\\infty} N(0,\\sigma_1) dx +  b \\int_{-\\infty}^{+\\infty} N(0, \\sigma_2) dx = a + b = 1 \\]"
      ],
      "text/plain": [
       "<IPython.core.display.Latex object>"
      ]
     },
     "metadata": {},
     "output_type": "display_data"
    }
   ],
   "source": [
    "%%latex\n",
    "\\[ \\int_{-\\infty}^{+\\infty} (a N(0,\\sigma_1) + b N(0, \\sigma_2) )dx = a \\int_{-\\infty}^{+\\infty} N(0,\\sigma_1) dx +  b \\int_{-\\infty}^{+\\infty} N(0, \\sigma_2) dx = a + b = 1 \\]"
   ]
  },
  {
   "cell_type": "markdown",
   "metadata": {},
   "source": [
    "Este resultado se puede extender para cualquier función de distribución y para cualquier cantidad de términos en la suma, mientras la función resultante esté definida en el mismo espacio"
   ]
  },
  {
   "cell_type": "markdown",
   "metadata": {},
   "source": [
    "####Codigo"
   ]
  },
  {
   "cell_type": "code",
   "execution_count": 37,
   "metadata": {
    "collapsed": false
   },
   "outputs": [
    {
     "data": {
      "image/png": "[encoded data removed]",
      "text/plain": [
       "<matplotlib.figure.Figure at 0x7f1d31c214a8>"
      ]
     },
     "metadata": {},
     "output_type": "display_data"
    }
   ],
   "source": [
    "@interact(a = (0,1,0.1),s1=(0.5,4,0.1),s2=(0.5,4,0.1),x=(3,15,1))\n",
    "def G3_E4_b(a = 0.5, s1 = 0.75, s2 = 3, x = 6):\n",
    "    t = np.linspace(-x,x,100)\n",
    "    plt.figure(1)    \n",
    "    plt.plot(t, f(t, a, s1, s2)/f(0, a, s1, s2), \"r-\", label=\"Suma de Gaussianas\")\n",
    "    plt.plot(t, cauchy(t)/cauchy(0),\"g-\", label=\"Cauchy\")\n",
    "    plt.legend(loc=0)"
   ]
  }
 ],
 "metadata": {
  "kernelspec": {
   "display_name": "Python 3",
   "language": "python",
   "name": "python3"
  },
  "language_info": {
   "codemirror_mode": {
    "name": "ipython",
    "version": 3
   },
   "file_extension": ".py",
   "mimetype": "text/x-python",
   "name": "python",
   "nbconvert_exporter": "python",
   "pygments_lexer": "ipython3",
   "version": "3.4.3"
  }
 },
 "nbformat": 4,
 "nbformat_minor": 0
}

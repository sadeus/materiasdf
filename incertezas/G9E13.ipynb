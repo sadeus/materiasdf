{
 "cells": [
  {
   "cell_type": "markdown",
   "metadata": {},
   "source": [
    "#Problema 13 de la guía 9\n",
    "##S. Schiavinato LU:153/1\n",
    "###Test de Chi-cuadrado"
   ]
  },
  {
   "cell_type": "code",
   "execution_count": 1,
   "metadata": {
    "collapsed": true
   },
   "outputs": [],
   "source": [
    "%matplotlib inline\n",
    "import numpy as np\n",
    "import numpy.linalg as lin\n",
    "import numpy.random as rnd\n",
    "import scipy.misc as misc\n",
    "import scipy.optimize as opt\n",
    "import scipy.stats as stats\n",
    "import matplotlib.pyplot as plt\n",
    "plt.rcParams[\"figure.figsize\"] = (5 * (1 + np.sqrt(5)) / 2, 5)\n",
    "plt.rcParams[\"lines.linewidth\"] = 2.5\n",
    "plt.rcParams[\"ytick.labelsize\"] = 12\n",
    "plt.rcParams[\"xtick.labelsize\"] = 12\n",
    "plt.rcParams[\"axes.labelsize\"] = 20"
   ]
  },
  {
   "cell_type": "code",
   "execution_count": 31,
   "metadata": {
    "collapsed": false
   },
   "outputs": [
    {
     "name": "stdout",
     "output_type": "stream",
     "text": [
      "55\n"
     ]
    },
    {
     "data": {
      "text/plain": [
       "0.044933083607722919"
      ]
     },
     "execution_count": 31,
     "metadata": {},
     "output_type": "execute_result"
    },
    {
     "data": {
      "image/png": "[encoded data removed]",
      "text/plain": [
       "<matplotlib.figure.Figure at 0x82612b0>"
      ]
     },
     "metadata": {},
     "output_type": "display_data"
    }
   ],
   "source": [
    "#Debe estar el archivo double_exp.dat en el mismo path que el ipynb\n",
    "data = np.loadtxt(\"datos-G9E13.dat\") \n",
    "t = np.arange(-7,7,0.25)\n",
    "#data = data\n",
    "hist, bins, patches = plt.hist(data,t, normed = True);\n",
    "print(len(hist))\n",
    "np.sum((hist - stats.norm(0,2.5).pdf(bins[:-1]))**2/stats.norm(0,2.5).pdf(bins[:-1]))\n"
   ]
  },
  {
   "cell_type": "code",
   "execution_count": null,
   "metadata": {
    "collapsed": true
   },
   "outputs": [],
   "source": [
    "stats.chisquare"
   ]
  }
 ],
 "metadata": {
  "kernelspec": {
   "display_name": "Python 3",
   "language": "python",
   "name": "python3"
  },
  "language_info": {
   "codemirror_mode": {
    "name": "ipython",
    "version": 3
   },
   "file_extension": ".py",
   "mimetype": "text/x-python",
   "name": "python",
   "nbconvert_exporter": "python",
   "pygments_lexer": "ipython3",
   "version": "3.4.3"
  }
 },
 "nbformat": 4,
 "nbformat_minor": 0
}
